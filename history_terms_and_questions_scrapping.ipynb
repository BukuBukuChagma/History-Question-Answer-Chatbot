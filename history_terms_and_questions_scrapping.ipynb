{
  "nbformat": 4,
  "nbformat_minor": 0,
  "metadata": {
    "colab": {
      "provenance": []
    },
    "kernelspec": {
      "name": "python3",
      "display_name": "Python 3"
    },
    "language_info": {
      "name": "python"
    }
  },
  "cells": [
    {
      "cell_type": "markdown",
      "source": [
        "# Dependencies and Imports"
      ],
      "metadata": {
        "id": "1N6A3brsJlXr"
      }
    },
    {
      "cell_type": "code",
      "execution_count": 2,
      "metadata": {
        "id": "T7wJIDdYfGlq"
      },
      "outputs": [],
      "source": [
        "%%capture\n",
        "!pip install BeautifulSoup"
      ]
    },
    {
      "cell_type": "code",
      "source": [
        "import requests\n",
        "from bs4 import BeautifulSoup\n",
        "import json\n",
        "from collections import deque\n",
        "import itertools\n",
        "import time"
      ],
      "metadata": {
        "id": "SUglN__tfSg7"
      },
      "execution_count": 3,
      "outputs": []
    },
    {
      "cell_type": "markdown",
      "source": [
        "# Scrapping"
      ],
      "metadata": {
        "id": "fyco_cIbJp2_"
      }
    },
    {
      "cell_type": "markdown",
      "source": [
        "Since sending large number of requests can trigger the ip ban hammer we load up free proxies from https://sslproxies.org/"
      ],
      "metadata": {
        "id": "oETlKslmJs0w"
      }
    },
    {
      "cell_type": "code",
      "source": [
        "def LoadUpProxies():\n",
        "\turl='https://sslproxies.org/'\n",
        "\tresponse=requests.get(url)\n",
        "\tsoup=BeautifulSoup(response.content, 'lxml')\n",
        "\treturn [p for p in soup.select('textarea')[0].contents[0].split('\\n\\n')[1].split('\\n') if not p == '']\n",
        "proxyBuffer = itertools.cycle(LoadUpProxies())"
      ],
      "metadata": {
        "id": "C39N-cyofXJL"
      },
      "execution_count": null,
      "outputs": []
    },
    {
      "cell_type": "code",
      "source": [
        "history_terms_and_questions = list()"
      ],
      "metadata": {
        "id": "twe4aCoyuPeh"
      },
      "execution_count": 44,
      "outputs": []
    },
    {
      "cell_type": "markdown",
      "source": [
        "Scrape History Quiz Questions and Answers from https://kwizzbit.com/history-quiz-questions-and-answers/"
      ],
      "metadata": {
        "id": "pEkhxYV6uA3B"
      }
    },
    {
      "cell_type": "code",
      "source": [
        "url = \"https://kwizzbit.com/history-quiz-questions-and-answers/\"\n",
        "page = requests.get(url=url)\n",
        "soup = BeautifulSoup(page.content, 'html.parser')\n",
        "quiz_questions = soup.find_all(lambda tag: tag.name == 'li' and not tag.find('a'))\n",
        "for q in quiz_questions:\n",
        "  history_terms_and_questions.append(q.text)"
      ],
      "metadata": {
        "id": "mIizOyY3r4Zr"
      },
      "execution_count": 45,
      "outputs": []
    },
    {
      "cell_type": "markdown",
      "source": [
        "Scrape list of all countries in the world from https://www.worldometers.info/geography/alphabetical-list-of-countries/"
      ],
      "metadata": {
        "id": "gx3TcWZ91FEX"
      }
    },
    {
      "cell_type": "code",
      "source": [
        "url = \"https://www.worldometers.info/geography/alphabetical-list-of-countries/\"\n",
        "page = requests.get(url=url)\n",
        "soup = BeautifulSoup(page.content, 'html.parser')\n",
        "countries_names = soup.find_all(\"td\", attrs={'style': 'font-weight: bold; font-size:15px'})\n",
        "for c in countries_names:\n",
        "  history_terms_and_questions.append(c.text)\n",
        "  history_terms_and_questions.append(\"history about \"+ c.text)"
      ],
      "metadata": {
        "id": "gqMLgzoguwWW"
      },
      "execution_count": 47,
      "outputs": []
    },
    {
      "cell_type": "markdown",
      "source": [
        "Scrape list of all dynasties that have been around in the world since ancient times from https://www.britannica.com/topic/list-of-dynasties-2074064"
      ],
      "metadata": {
        "id": "YbgXlwJA1LvH"
      }
    },
    {
      "cell_type": "code",
      "source": [
        "url = \"https://www.britannica.com/topic/list-of-dynasties-2074064\"\n",
        "page = requests.get(url=url)\n",
        "soup = BeautifulSoup(page.content, 'html.parser')\n",
        "dynasties = soup.find_all(\"a\", attrs={'class': 'md-crosslink'})\n",
        "for d in dynasties:\n",
        "  history_terms_and_questions.append(d.text)"
      ],
      "metadata": {
        "id": "3FWceHN3xuAz"
      },
      "execution_count": 49,
      "outputs": []
    },
    {
      "cell_type": "markdown",
      "source": [
        "Scrape list of all kingdoms that have been around in the world since ancient times from https://profilbaru.com/article/List_of_kingdoms_and_royal_dynasties"
      ],
      "metadata": {
        "id": "voDN42nz4pE5"
      }
    },
    {
      "cell_type": "code",
      "source": [
        "url = \"https://profilbaru.com/article/List_of_kingdoms_and_royal_dynasties\"\n",
        "page = requests.get(url=url)\n",
        "soup = BeautifulSoup(page.content, 'html.parser')\n",
        "kingdoms = soup.find_all(lambda tag: tag.name == 'a' and tag.get('title') == tag.text and tag.parent.name == \"li\")[17:]\n",
        "for k in kingdoms:\n",
        "  history_terms_and_questions.append(k.text)"
      ],
      "metadata": {
        "id": "x2UT-d0GsaG1"
      },
      "execution_count": 51,
      "outputs": []
    },
    {
      "cell_type": "markdown",
      "source": [
        "Now we append some common things/list/pages manually"
      ],
      "metadata": {
        "id": "M7DYDGtE4zmQ"
      }
    },
    {
      "cell_type": "code",
      "source": [
        "history_terms_and_questions.append(\"list of all floods since ancient history\")\n",
        "history_terms_and_questions.append(\"list of all massacres in history\")\n",
        "history_terms_and_questions.append(\"list of all civilizations\")\n",
        "history_terms_and_questions.append(\"list of all religions\")\n",
        "history_terms_and_questions.append(\"list of all the wars in history\")\n",
        "history_terms_and_questions.append(\"world war 1\")\n",
        "history_terms_and_questions.append(\"world war 2\")\n",
        "history_terms_and_questions.append(\"list of great battles\")"
      ],
      "metadata": {
        "id": "9RTWx5Jb43Qc"
      },
      "execution_count": 54,
      "outputs": []
    },
    {
      "cell_type": "code",
      "source": [
        "len(history_terms_and_questions)"
      ],
      "metadata": {
        "colab": {
          "base_uri": "https://localhost:8080/"
        },
        "id": "4mq2jKjO5vCY",
        "outputId": "7e7fb49c-4895-4806-e1f2-82da8bd29fe0"
      },
      "execution_count": 55,
      "outputs": [
        {
          "output_type": "execute_result",
          "data": {
            "text/plain": [
              "1344"
            ]
          },
          "metadata": {},
          "execution_count": 55
        }
      ]
    },
    {
      "cell_type": "markdown",
      "source": [
        "We write it to a txt file which can be used later on in other notebooks/scripts. In our usecase we use it in Wikipedia Scrapping notebook to download all wiki pages about these history topics"
      ],
      "metadata": {
        "id": "Z5KTKyZMK273"
      }
    },
    {
      "cell_type": "code",
      "source": [
        "nutrition_terms = list(set(history_terms_and_questions))\n",
        "\n",
        "with open('history_terms.txt', 'w') as f:\n",
        "        for line in nutrition_terms:\n",
        "            f.write(f\"{line}\\n\")"
      ],
      "metadata": {
        "id": "lPTCQZVGxq4z"
      },
      "execution_count": 56,
      "outputs": []
    }
  ]
}